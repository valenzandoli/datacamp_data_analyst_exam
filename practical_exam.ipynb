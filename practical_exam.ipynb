{
 "cells": [
  {
   "attachments": {},
   "cell_type": "markdown",
   "metadata": {},
   "source": [
    "### **Data Analyst Associate - Practical Exam**\n",
    "\n",
    "In this notebook I am going to complete the practical exam required to obtain the certification as a Data Analyst Associate on DataCamp.\n",
    "\n",
    "The objective of the exam is to analyze data from a pet products retailer. The shop is looking to increase sales by selling more of one of the kind of products they offer. \n",
    "\n",
    "The approach is going to be looking how repeat purchases impact sales, if there is a positive and valid correlation between them maybe the shop has to increase their offer on everyday products to achieve their goal. "
   ]
  },
  {
   "cell_type": "code",
   "execution_count": 29,
   "metadata": {},
   "outputs": [],
   "source": [
    "# Importing libraries\n",
    "import pandas as pd\n",
    "import numpy as np\n",
    "import seaborn as sns\n",
    "import matplotlib.pyplot as plt"
   ]
  },
  {
   "cell_type": "code",
   "execution_count": 30,
   "metadata": {},
   "outputs": [
    {
     "data": {
      "text/html": [
       "<div>\n",
       "<style scoped>\n",
       "    .dataframe tbody tr th:only-of-type {\n",
       "        vertical-align: middle;\n",
       "    }\n",
       "\n",
       "    .dataframe tbody tr th {\n",
       "        vertical-align: top;\n",
       "    }\n",
       "\n",
       "    .dataframe thead th {\n",
       "        text-align: right;\n",
       "    }\n",
       "</style>\n",
       "<table border=\"1\" class=\"dataframe\">\n",
       "  <thead>\n",
       "    <tr style=\"text-align: right;\">\n",
       "      <th></th>\n",
       "      <th>product_id</th>\n",
       "      <th>category</th>\n",
       "      <th>animal</th>\n",
       "      <th>size</th>\n",
       "      <th>price</th>\n",
       "      <th>sales</th>\n",
       "      <th>rating</th>\n",
       "      <th>repeat_purchase</th>\n",
       "    </tr>\n",
       "  </thead>\n",
       "  <tbody>\n",
       "    <tr>\n",
       "      <th>0</th>\n",
       "      <td>1</td>\n",
       "      <td>Food</td>\n",
       "      <td>Bird</td>\n",
       "      <td>large</td>\n",
       "      <td>51.1</td>\n",
       "      <td>1860.62</td>\n",
       "      <td>7.0</td>\n",
       "      <td>1</td>\n",
       "    </tr>\n",
       "    <tr>\n",
       "      <th>1</th>\n",
       "      <td>2</td>\n",
       "      <td>Housing</td>\n",
       "      <td>Bird</td>\n",
       "      <td>MEDIUM</td>\n",
       "      <td>35.98</td>\n",
       "      <td>963.60</td>\n",
       "      <td>6.0</td>\n",
       "      <td>0</td>\n",
       "    </tr>\n",
       "    <tr>\n",
       "      <th>2</th>\n",
       "      <td>3</td>\n",
       "      <td>Food</td>\n",
       "      <td>Dog</td>\n",
       "      <td>medium</td>\n",
       "      <td>31.23</td>\n",
       "      <td>898.30</td>\n",
       "      <td>5.0</td>\n",
       "      <td>1</td>\n",
       "    </tr>\n",
       "    <tr>\n",
       "      <th>3</th>\n",
       "      <td>4</td>\n",
       "      <td>Medicine</td>\n",
       "      <td>Cat</td>\n",
       "      <td>small</td>\n",
       "      <td>24.95</td>\n",
       "      <td>982.15</td>\n",
       "      <td>6.0</td>\n",
       "      <td>1</td>\n",
       "    </tr>\n",
       "    <tr>\n",
       "      <th>4</th>\n",
       "      <td>5</td>\n",
       "      <td>Housing</td>\n",
       "      <td>Cat</td>\n",
       "      <td>Small</td>\n",
       "      <td>26.18</td>\n",
       "      <td>832.63</td>\n",
       "      <td>7.0</td>\n",
       "      <td>1</td>\n",
       "    </tr>\n",
       "  </tbody>\n",
       "</table>\n",
       "</div>"
      ],
      "text/plain": [
       "   product_id  category animal    size  price    sales  rating  \\\n",
       "0           1      Food   Bird   large   51.1  1860.62     7.0   \n",
       "1           2   Housing   Bird  MEDIUM  35.98   963.60     6.0   \n",
       "2           3      Food    Dog  medium  31.23   898.30     5.0   \n",
       "3           4  Medicine    Cat   small  24.95   982.15     6.0   \n",
       "4           5   Housing    Cat   Small  26.18   832.63     7.0   \n",
       "\n",
       "   repeat_purchase  \n",
       "0                1  \n",
       "1                0  \n",
       "2                1  \n",
       "3                1  \n",
       "4                1  "
      ]
     },
     "execution_count": 30,
     "metadata": {},
     "output_type": "execute_result"
    }
   ],
   "source": [
    "# Reading the data\n",
    "df = pd.read_csv(\"pet_supplies.csv\", encoding= \"utf-8\")\n",
    "df.head()"
   ]
  },
  {
   "attachments": {},
   "cell_type": "markdown",
   "metadata": {},
   "source": [
    "#### Task 1\n",
    "\n",
    "In this task we've got to check for every column in the dataset if it values matches the description on the table that we were given, state the missing values for each column and what we've done with those columns that didn't fit the description. "
   ]
  },
  {
   "cell_type": "code",
   "execution_count": 31,
   "metadata": {},
   "outputs": [
    {
     "name": "stdout",
     "output_type": "stream",
     "text": [
      "<class 'pandas.core.frame.DataFrame'>\n",
      "RangeIndex: 1500 entries, 0 to 1499\n",
      "Data columns (total 8 columns):\n",
      " #   Column           Non-Null Count  Dtype  \n",
      "---  ------           --------------  -----  \n",
      " 0   product_id       1500 non-null   int64  \n",
      " 1   category         1500 non-null   object \n",
      " 2   animal           1500 non-null   object \n",
      " 3   size             1500 non-null   object \n",
      " 4   price            1500 non-null   object \n",
      " 5   sales            1500 non-null   float64\n",
      " 6   rating           1350 non-null   float64\n",
      " 7   repeat_purchase  1500 non-null   int64  \n",
      "dtypes: float64(2), int64(2), object(4)\n",
      "memory usage: 93.9+ KB\n"
     ]
    }
   ],
   "source": [
    "# Getting to know the dataset\n",
    "df.info()"
   ]
  },
  {
   "cell_type": "code",
   "execution_count": 32,
   "metadata": {},
   "outputs": [
    {
     "name": "stdout",
     "output_type": "stream",
     "text": [
      "Category:\n",
      "Equipment    370\n",
      "Food         260\n",
      "Toys         255\n",
      "Medicine     237\n",
      "Housing      227\n",
      "Accessory    126\n",
      "-             25\n",
      "Name: category, dtype: int64\n",
      "\n",
      "Animal:\n",
      "Cat     567\n",
      "Fish    369\n",
      "Dog     367\n",
      "Bird    197\n",
      "Name: animal, dtype: int64\n",
      "\n",
      "Size:\n",
      "small     372\n",
      "medium    233\n",
      "Small     225\n",
      "SMALL     157\n",
      "Medium    150\n",
      "large     122\n",
      "MEDIUM    109\n",
      "Large      75\n",
      "LARGE      57\n",
      "Name: size, dtype: int64\n",
      "\n",
      "Price:\n",
      "unlisted    150\n",
      "22.98        13\n",
      "28           10\n",
      "19.94         8\n",
      "28.03         8\n",
      "           ... \n",
      "19.84         1\n",
      "35.82         1\n",
      "43.97         1\n",
      "32.91         1\n",
      "21.25         1\n",
      "Name: price, Length: 707, dtype: int64\n",
      "\n",
      "Sales:\n",
      "1034.36    3\n",
      "998.18     2\n",
      "790.28     2\n",
      "1038.63    2\n",
      "1085.60    2\n",
      "          ..\n",
      "465.62     1\n",
      "709.87     1\n",
      "816.48     1\n",
      "1075.67    1\n",
      "827.23     1\n",
      "Name: sales, Length: 1476, dtype: int64\n",
      "\n",
      "Rating:\n",
      "5.0    304\n",
      "6.0    299\n",
      "4.0    283\n",
      "3.0    190\n",
      "7.0    143\n",
      "8.0     61\n",
      "2.0     43\n",
      "9.0     15\n",
      "1.0     12\n",
      "Name: rating, dtype: int64\n",
      "\n",
      "Repeat purchase:\n",
      "1    906\n",
      "0    594\n",
      "Name: repeat_purchase, dtype: int64\n"
     ]
    }
   ],
   "source": [
    "# We get the different values of every column to see if they match the description.\n",
    "print(f'Category:\\n{df[\"category\"].value_counts()}\\n')\n",
    "print(f'Animal:\\n{df[\"animal\"].value_counts()}\\n')\n",
    "print(f'Size:\\n{df[\"size\"].value_counts()}\\n')\n",
    "print(f'Price:\\n{df[\"price\"].value_counts()}\\n')\n",
    "print(f'Sales:\\n{df[\"sales\"].value_counts()}\\n')\n",
    "print(f'Rating:\\n{df[\"rating\"].value_counts()}\\n')\n",
    "print(f'Repeat purchase:\\n{df[\"repeat_purchase\"].value_counts()}')"
   ]
  },
  {
   "attachments": {},
   "cell_type": "markdown",
   "metadata": {},
   "source": [
    "Given the information that we got before we can decide what are the things that are going to be modified to get the data accordingly to how is described on the table. \n",
    "\n",
    "First we take a look on the data type of each column. We can see that almost all columns are correct on their data type and the description given to us but we can see that the price columns is an object type when the description says that it has to be continuous so we must change it. \n",
    "\n",
    "Then if we look at shape of the dataset we see that it has 1500 entries with data so we get to know that the rating column is missing 150 values. The information given to us is that in order to get rid of those missing values we've got to replace them with zero (0).\n",
    "\n",
    "Also We found that the price column has 150 entries with the value \"unlisted\" so we must take them as missing values. This missing values we are going to replace them with the overall median price. And we can see that the Category column got 25 values with '-' so they must be replaced with 'Unknown'\n"
   ]
  },
  {
   "cell_type": "code",
   "execution_count": 34,
   "metadata": {},
   "outputs": [
    {
     "name": "stdout",
     "output_type": "stream",
     "text": [
      "Median price = 28.064999999999998\n"
     ]
    },
    {
     "data": {
      "text/plain": [
       "0       51.10\n",
       "1       35.98\n",
       "2       31.23\n",
       "3       24.95\n",
       "4       26.18\n",
       "        ...  \n",
       "1495    40.91\n",
       "1496    32.89\n",
       "1497    25.79\n",
       "1498    19.94\n",
       "1499    25.95\n",
       "Name: price, Length: 1500, dtype: float64"
      ]
     },
     "execution_count": 34,
     "metadata": {},
     "output_type": "execute_result"
    }
   ],
   "source": [
    "# Replacing missing values and datatype on price\n",
    "median_price = df[df[\"price\"] != \"unlisted\"][\"price\"].astype(np.float64).median()\n",
    "print(f'Median price = {median_price}')\n",
    "\n",
    "df[\"price\"] = np.where(df[\"price\"] == \"unlisted\", median_price, df[\"price\"])\n",
    "df[\"price\"].astype(np.float64)"
   ]
  },
  {
   "cell_type": "code",
   "execution_count": 36,
   "metadata": {},
   "outputs": [
    {
     "data": {
      "text/plain": [
       "Equipment    370\n",
       "Food         260\n",
       "Toys         255\n",
       "Medicine     237\n",
       "Housing      227\n",
       "Accessory    126\n",
       "Unknown       25\n",
       "Name: category, dtype: int64"
      ]
     },
     "execution_count": 36,
     "metadata": {},
     "output_type": "execute_result"
    }
   ],
   "source": [
    "# Replacing missing values of Category and \n",
    "df[\"category\"] = np.where(df[\"category\"] == \"-\", \"Unknown\", df[\"category\"])\n",
    "df[\"category\"].value_counts()"
   ]
  },
  {
   "cell_type": "code",
   "execution_count": 41,
   "metadata": {},
   "outputs": [
    {
     "data": {
      "text/plain": [
       "0"
      ]
     },
     "execution_count": 41,
     "metadata": {},
     "output_type": "execute_result"
    }
   ],
   "source": [
    "# Replacing missing values of Rating\n",
    "df[\"rating\"].fillna(0, inplace = True)\n",
    "df[\"rating\"].isna().sum()"
   ]
  },
  {
   "cell_type": "markdown",
   "metadata": {},
   "source": [
    "#### Task 2 \n",
    "\n",
    "In this task we are going to create a visualization that shows how many products are repeat purchases. With this visualization we are going to state which category of the variable repeat purchases has the most observations and explain whether the observations are balanced across categories of the variable repeat purchases. "
   ]
  },
  {
   "cell_type": "code",
   "execution_count": 66,
   "metadata": {},
   "outputs": [
    {
     "data": {
      "image/png": "[encoded data removed]",
      "text/plain": [
       "<Figure size 720x504 with 1 Axes>"
      ]
     },
     "metadata": {
      "needs_background": "light"
     },
     "output_type": "display_data"
    }
   ],
   "source": [
    "# Plotting repeated purchases and their categories\n",
    "plt.figure(figsize = (10,7))\n",
    "sns.countplot(data = df, x = \"repeat_purchase\", hue = \"category\", dodge = True)\n",
    "plt.title(\"Repeated purchases per category\")\n",
    "plt.xlabel(\"Repeated Purchases\")\n",
    "plt.show()"
   ]
  },
  {
   "attachments": {},
   "cell_type": "markdown",
   "metadata": {},
   "source": [
    "In this graph, we are going to see the comparison between repeated purchases.\n",
    "\n",
    "At first glance, we can see that there are more purchases that are repeated than those that are not. Then, if we pay special attention to the categories in which repeated purchases are distributed, we can see that the distribution of Food, Housing, Medicine, and Toys is similar, with values close to 150.\n",
    "\n",
    "It is also possible to see that there is a big difference for Equipment and Accessory with the rest. For the first one, we can see that it is the category that is repeated the most within the repeated purchases. For the second one, we can see that it is the one that is repeated the least. However, this does not allow us to draw conclusions about them, since this behavior occurs in both columns, both in the repeated and non-repeated ones, so it could be due to the number of products belonging to these categories.\n",
    "\n",
    "To conclude, we can say that we are in a position to affirm that, in principle, the categories are distributed similarly across the \"repeated purchases\" variable."
   ]
  },
  {
   "attachments": {},
   "cell_type": "markdown",
   "metadata": {},
   "source": [
    "#### Task 3\n",
    "\n",
    "In this task we have to describe the distribution of all of the sales with a visualization included showing the distribution. "
   ]
  },
  {
   "cell_type": "code",
   "execution_count": 87,
   "metadata": {},
   "outputs": [
    {
     "data": {
      "image/png": "[encoded data removed]",
      "text/plain": [
       "<Figure size 864x504 with 2 Axes>"
      ]
     },
     "metadata": {
      "needs_background": "light"
     },
     "output_type": "display_data"
    }
   ],
   "source": [
    "# As sales is continuous we are doing a histogram and a boxplot to understand the distribution\n",
    "fig, axes = plt.subplots(1, 2, figsize=(12, 7))\n",
    "\n",
    "# Histogram\n",
    "sns.histplot(data=df, x=\"sales\", ax=axes[0])\n",
    "axes[0].set_xlabel(\"Sales\")\n",
    "axes[0].set_title(\"Distribution of Sales\")\n",
    "\n",
    "# Boxplot\n",
    "sns.boxplot(data=df, x=\"sales\", ax=axes[1])\n",
    "axes[1].set_xlabel(\"Sales\")\n",
    "axes[1].set_title(\"Box Plot of Sales\")\n",
    "\n",
    "plt.tight_layout()\n",
    "plt.show()"
   ]
  },
  {
   "cell_type": "code",
   "execution_count": 82,
   "metadata": {},
   "outputs": [
    {
     "name": "stdout",
     "output_type": "stream",
     "text": [
      "Sales Mean: 996.598\n",
      "\n",
      "Sales Median: 1000.83\n",
      "\n",
      "Sales Standard Deviation: 323.953\n"
     ]
    }
   ],
   "source": [
    "# We get a resume of the stats that will help to explain the distribution of sales\n",
    "print(f'Sales Mean: {round(df[\"sales\"].mean(),3)}\\n')\n",
    "print(f'Sales Median: {round(df[\"sales\"].median(), 3)}\\n')\n",
    "print(f'Sales Standard Deviation: {round(df[\"sales\"].std(),3)}')"
   ]
  },
  {
   "attachments": {},
   "cell_type": "markdown",
   "metadata": {},
   "source": [
    "In this particular case, we can see from the histogram of the variable that it appears to be distributed normally. This means that the majority of sales values are clustered around a central point, with fewer sales values appearing further away from this point on either side.\n",
    "\n",
    "To better understand the central tendency and spread of the data, we can look at the mean, median, and standard deviation values of the \"sales\" variable. The mean value, which represents the average value of all the sales, is 996.59. The median value, which represents the middle value of the data when it is arranged in ascending or descending order, is 1000.83. This indicates that the sales data is roughly evenly distributed around this central point, with half of the sales values falling above this point and half falling below it.\n",
    "\n",
    "The standard deviation, which measures the amount of variation or dispersion in the data from the mean value, is 323.95."
   ]
  },
  {
   "attachments": {},
   "cell_type": "markdown",
   "metadata": {},
   "source": [
    "#### Task 4\n",
    "\n",
    "In this task we have to describe the relationship between repeat purchases and sales. We are including a visualization to demonstrate this relationship. "
   ]
  },
  {
   "cell_type": "code",
   "execution_count": 90,
   "metadata": {},
   "outputs": [
    {
     "data": {
      "image/png": "[encoded data removed]",
      "text/plain": [
       "<Figure size 720x504 with 1 Axes>"
      ]
     },
     "metadata": {
      "needs_background": "light"
     },
     "output_type": "display_data"
    }
   ],
   "source": [
    "# First we compare distributions of repeat purchase by sales\n",
    "plt.figure(figsize = (10,7))\n",
    "sns.boxplot(data = df, x = \"repeat_purchase\", y = \"sales\")\n",
    "plt.show()"
   ]
  },
  {
   "cell_type": "code",
   "execution_count": 101,
   "metadata": {},
   "outputs": [
    {
     "name": "stdout",
     "output_type": "stream",
     "text": [
      "Non Repeat Sales\n",
      "Mean: 1028.3680134680128\n",
      "\n",
      "Std dev: 316.91576957793836\n",
      "\n",
      "Median: 1030.185\n",
      "\n",
      "Repeat Sales\n",
      "Mean: 975.7683995584985\n",
      "\n",
      "Std dev: 326.9854151304665\n",
      "\n",
      "Median: 978.21\n"
     ]
    }
   ],
   "source": [
    "# Then we obtain the summary stats for each group. \n",
    "\n",
    "# We split the data into two groups based on the category of repeat_purchase\n",
    "repeat_sales = df[df['repeat_purchase'] == 1]['sales']\n",
    "non_repeat_sales = df[df['repeat_purchase'] == 0]['sales']\n",
    "\n",
    "# Non repeat sales\n",
    "print(f'Non Repeat Sales\\nMean: {non_repeat_sales.mean()}')\n",
    "print(f'\\nStd dev: {non_repeat_sales.std()}')\n",
    "print(f'\\nMedian: {non_repeat_sales.median()}')\n",
    "\n",
    "# Repeat sales\n",
    "print(f'\\nRepeat Sales\\nMean: {repeat_sales.mean()}')\n",
    "print(f'\\nStd dev: {repeat_sales.std()}')\n",
    "print(f'\\nMedian: {repeat_sales.median()}')"
   ]
  },
  {
   "cell_type": "code",
   "execution_count": 102,
   "metadata": {},
   "outputs": [
    {
     "name": "stdout",
     "output_type": "stream",
     "text": [
      "T-statistic: -3.084198268727848\n",
      "\n",
      "P-value: 0.0020783246427295778\n"
     ]
    }
   ],
   "source": [
    "# We are going to do a t-test to compare the mean sales between the repeat and non repeat purchases.\n",
    "from scipy.stats import ttest_ind\n",
    "\n",
    "\n",
    "# Conduct a two-sample t-test to compare the mean sales between the two groups\n",
    "t_stat, p_value = ttest_ind(repeat_sales, non_repeat_sales)\n",
    "\n",
    "# Print the results of the t-test\n",
    "print('T-statistic:', t_stat)\n",
    "print('\\nP-value:', p_value)"
   ]
  },
  {
   "attachments": {},
   "cell_type": "markdown",
   "metadata": {},
   "source": [
    "Based on the given results, it appears that there is a significant difference in sales between repeat and non-repeat purchases. The mean sales for non-repeat purchases is 1028.37, while the mean sales for repeat purchases is 975.77. This suggests that customers who make repeat purchases tend to spend less than those who do not make repeat purchases. Additionally, the standard deviation for non-repeat purchases is 316.92, which is slightly lower than the standard deviation for repeat purchases at 326.99. This could indicate that there is less variability in sales for non-repeat purchases.\n",
    "\n",
    "Furthermore, the results of the t-test indicate that there is a statistically significant difference in mean sales between the two groups, with a t-statistic of -3.08 and a p-value of 0.002. This means that the probability of observing such a difference in mean sales between repeat and non-repeat purchases due to chance is very low. Therefore, we can conclude that there is a significant relationship between repeat purchases and sales, and that businesses should consider implementing strategies to encourage repeat purchases while also focusing on increasing the average spend per customer."
   ]
  },
  {
   "cell_type": "code",
   "execution_count": null,
   "metadata": {},
   "outputs": [],
   "source": []
  }
 ],
 "metadata": {
  "kernelspec": {
   "display_name": "base",
   "language": "python",
   "name": "python3"
  },
  "language_info": {
   "codemirror_mode": {
    "name": "ipython",
    "version": 3
   },
   "file_extension": ".py",
   "mimetype": "text/x-python",
   "name": "python",
   "nbconvert_exporter": "python",
   "pygments_lexer": "ipython3",
   "version": "3.8.8"
  },
  "orig_nbformat": 4
 },
 "nbformat": 4,
 "nbformat_minor": 2
}
